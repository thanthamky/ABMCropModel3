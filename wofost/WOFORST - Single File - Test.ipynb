{
 "cells": [
  {
   "cell_type": "code",
   "execution_count": 1,
   "id": "e2be4e93-2d7d-48dd-b52b-9a46cc0d9ec7",
   "metadata": {},
   "outputs": [
    {
     "name": "stderr",
     "output_type": "stream",
     "text": [
      "Platform not recognized, using system temp directory for PCSE settings.\n",
      "Platform not recognized, using system temp directory for PCSE settings.\n"
     ]
    },
    {
     "name": "stdout",
     "output_type": "stream",
     "text": [
      "This notebook was built with:\n",
      "python version: 3.9.16 (main, Mar  8 2023, 04:29:44) \n",
      "[Clang 14.0.6 ] \n",
      "PCSE version: 5.5.4\n"
     ]
    }
   ],
   "source": [
    "%matplotlib inline\n",
    "import sys, os\n",
    "import matplotlib\n",
    "matplotlib.style.use(\"ggplot\")\n",
    "import matplotlib.pyplot as plt\n",
    "import pandas as pd\n",
    "import json\n",
    "import glob\n",
    "import yaml\n",
    "\n",
    "import pcse\n",
    "print(\"This notebook was built with:\")\n",
    "print(\"python version: %s \" % sys.version)\n",
    "print(\"PCSE version: %s\" %  pcse.__version__)\n",
    "\n",
    "from pcse.fileinput import YAMLCropDataProvider, CABOFileReader\n",
    "from pcse.fileinput import CABOFileReader\n",
    "from pcse.util import WOFOST71SiteDataProvider\n",
    "from pcse.fileinput import ExcelWeatherDataProvider\n",
    "from pcse.models import Wofost72_WLP_FD, Wofost72_PP\n",
    "from pcse.base import ParameterProvider\n",
    "\n",
    "import xlrd\n",
    "\n",
    "from pcse.db import NASAPowerWeatherDataProvider"
   ]
  },
  {
   "cell_type": "code",
   "execution_count": 2,
   "id": "02356446-24b1-454f-af75-4c92d2a7e263",
   "metadata": {},
   "outputs": [
    {
     "name": "stdout",
     "output_type": "stream",
     "text": [
      "This notebook was built with:\n",
      "python version: 3.9.16 (main, Mar  8 2023, 04:29:44) \n",
      "[Clang 14.0.6 ] \n",
      "PCSE version: 5.5.4\n"
     ]
    }
   ],
   "source": [
    "\n",
    "import sys, os\n",
    "import pandas as pd\n",
    "import json\n",
    "import glob\n",
    "import yaml\n",
    "\n",
    "import pcse\n",
    "print(\"This notebook was built with:\")\n",
    "print(\"python version: %s \" % sys.version)\n",
    "print(\"PCSE version: %s\" %  pcse.__version__)\n",
    "\n",
    "from pcse.fileinput import YAMLCropDataProvider, CABOFileReader\n",
    "from pcse.fileinput import CABOFileReader\n",
    "from pcse.util import WOFOST71SiteDataProvider\n",
    "from pcse.fileinput import ExcelWeatherDataProvider\n",
    "from pcse.models import Wofost72_WLP_FD, Wofost72_PP\n",
    "from pcse.base import ParameterProvider\n",
    "\n",
    "import xlrd\n",
    "\n",
    "from pcse.db import NASAPowerWeatherDataProvider\n",
    "\n",
    "class InterfaceWOFOST:\n",
    "    \n",
    "    def __init__(self):\n",
    "        \n",
    "        self.crop_list = ['rice', 'sugarcane', 'cassava', 'maize']\n",
    "        self.crop_list2 = ['ri1', 'ri2', 'ri3', 'ri4', 'cf', 'mp']\n",
    "        self.input_soil_dir = './wofost_soil_config'\n",
    "        self._errors = []\n",
    "        self.input_cropparam_dir = './wofost_param_config'\n",
    "        self.reserved_yield = {'ri1': 363,\n",
    "                               'ri2': 712,\n",
    "                               'ri3': 745,\n",
    "                               'ri4': 600,\n",
    "                               'sc' : 10000,\n",
    "                               'mp' : 1400,\n",
    "                               'cf' : 3438}\n",
    "    \n",
    "    def read_crop_config(self, crop_type):\n",
    "        with open(self.input_cropparam_dir+'/'+crop_type+'.json', 'r') as f:\n",
    "             self.config = json.load(f)\n",
    "    \n",
    "    def load_crop_data(self):\n",
    "        self.cropd = YAMLCropDataProvider(force_reload=True)\n",
    "        #self.cropd = YAMLCropDataProvider(fpath=\"CropModel3/WOFOST_crop_parameters\")\n",
    "        self.cropd.set_active_crop(self.config['plant'], self.config['crop_variety'])\n",
    "        \n",
    "    def load_soil_data(self):\n",
    "        self.soilfile = os.path.join(self.input_soil_dir, self.config['soil'])\n",
    "        self.soild = CABOFileReader(self.soilfile)\n",
    "    \n",
    "    def load_site_data(self):\n",
    "        #self.sited = WOFOST71SiteDataProvider(WAV=100, CO2=360)\n",
    "        self.sited = WOFOST71SiteDataProvider(WAV=100)\n",
    "        \n",
    "    def load_agromanagement(self):\n",
    "        self.agromanagement = yaml.safe_load(self.config['argo'])\n",
    "    \n",
    "    def init_params(self):\n",
    "        self.parameters = ParameterProvider(cropdata=self.cropd, soildata=self.soild, sitedata=self.sited)\n",
    "        \n",
    "    def load_weather_file(self):\n",
    "        # Load weather file\n",
    "        self.wdp = ExcelWeatherDataProvider('input_weather/WOFOST-ข้าว-118811920-141233557.xlsx', force_reload=False)\n",
    "        #print(self.wdp)\n",
    "        \n",
    "    def load_weather_nasa(self, lat, lon):\n",
    "        self.wdp = NASAPowerWeatherDataProvider(latitude=lat, longitude=lon)\n",
    "        \n",
    "    def simulate_crop(self):\n",
    "        # Run simulation until terminate\n",
    "        try:\n",
    "            # wofsim = Wofost72_WLP_FD(parameters, wdp, agromanagement)\n",
    "            self.wofsim = Wofost72_PP(parameterprovider=self.parameters, weatherdataprovider=self.wdp, agromanagement=self.agromanagement)\n",
    "            self.wofsim.run_till_terminate()\n",
    "        except Exception as e:\n",
    "            self._errors.append({\n",
    "                'err': e\n",
    "            })\n",
    "    \n",
    "    def output_product(self):\n",
    "        ''' PASS OUT OUTPUT FROM MODEL ---------------------------------------------------------------- '''\n",
    "        self.df_results = pd.DataFrame(self.wofsim.get_output()) # convert to dataframe\n",
    "        convert_ha_to_rai = ['TAGP', 'TWSO', 'TWLV', 'TWST', 'TWRT', 'TRA'] # define fields\n",
    "        self.df_results[convert_ha_to_rai] = self.df_results[convert_ha_to_rai]/6.25 # select field and convert to rai\n",
    "        self.df_results = self.df_results.set_index(\"day\") # set index\n",
    "        return self.df_results['TWSO'][-1]\n",
    "    \n",
    "    def get_sim_product(self, crop_type, lat, lon):\n",
    "        \n",
    "        try:\n",
    "        \n",
    "            if crop_type == 'ri1':\n",
    "\n",
    "                return self.reserved_yield['ri1']\n",
    "\n",
    "            elif crop_type == 'ri2':\n",
    "\n",
    "                return self.reserved_yield['ri2']\n",
    "\n",
    "            elif crop_type == 'ri3':\n",
    "\n",
    "                return self.reserved_yield['ri3']\n",
    "\n",
    "            elif crop_type == 'ri4':\n",
    "\n",
    "                return self.reserved_yield['ri4']\n",
    "\n",
    "            else:\n",
    "\n",
    "                self.read_crop_config(crop_type)\n",
    "                self.load_crop_data()\n",
    "                self.load_soil_data()\n",
    "                self.load_site_data()\n",
    "                self.load_agromanagement()\n",
    "                self.init_params()\n",
    "                self.load_weather_nasa(lat, lon) # <-- weather modify\n",
    "                self.simulate_crop()\n",
    "                product = self.output_product()\n",
    "\n",
    "\n",
    "            return product\n",
    "        \n",
    "        except Exception as e:\n",
    "            \n",
    "            print(str(e))\n",
    "            \n",
    "            return 0\n",
    "        \n",
    "    "
   ]
  },
  {
   "cell_type": "code",
   "execution_count": 3,
   "id": "a9b85aa6-d74e-45a9-af1a-07571f199340",
   "metadata": {},
   "outputs": [],
   "source": [
    "cropmodel = InterfaceWOFOST()"
   ]
  },
  {
   "cell_type": "code",
   "execution_count": 5,
   "id": "befd5fe5-ccd5-4514-a7da-49cc38d42cf6",
   "metadata": {},
   "outputs": [
    {
     "data": {
      "text/plain": [
       "1406.6617110157101"
      ]
     },
     "execution_count": 5,
     "metadata": {},
     "output_type": "execute_result"
    }
   ],
   "source": [
    "cropmodel.get_sim_product('mp', 13.11, 101.1)"
   ]
  },
  {
   "cell_type": "code",
   "execution_count": null,
   "id": "e75cef7c-b1fb-442b-aa31-5ddcac1bb403",
   "metadata": {},
   "outputs": [],
   "source": []
  }
 ],
 "metadata": {
  "kernelspec": {
   "display_name": "Python 3 (ipykernel)",
   "language": "python",
   "name": "python3"
  },
  "language_info": {
   "codemirror_mode": {
    "name": "ipython",
    "version": 3
   },
   "file_extension": ".py",
   "mimetype": "text/x-python",
   "name": "python",
   "nbconvert_exporter": "python",
   "pygments_lexer": "ipython3",
   "version": "3.9.16"
  }
 },
 "nbformat": 4,
 "nbformat_minor": 5
}
